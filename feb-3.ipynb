{
 "cells": [
  {
   "attachments": {},
   "cell_type": "markdown",
   "metadata": {},
   "source": [
    "## Q1.\n",
    "    \"def\" keyword is used to create a function"
   ]
  },
  {
   "cell_type": "code",
   "execution_count": 1,
   "metadata": {},
   "outputs": [],
   "source": [
    "def you():\n",
    "    l=[]\n",
    "    for i  in range(1,26):\n",
    "        if i%2!=0:\n",
    "            l.append(i)\n",
    "    print(l)"
   ]
  },
  {
   "cell_type": "code",
   "execution_count": 2,
   "metadata": {},
   "outputs": [
    {
     "name": "stdout",
     "output_type": "stream",
     "text": [
      "[1, 3, 5, 7, 9, 11, 13, 15, 17, 19, 21, 23, 25]\n"
     ]
    }
   ],
   "source": [
    "you()"
   ]
  },
  {
   "attachments": {},
   "cell_type": "markdown",
   "metadata": {},
   "source": [
    "## Q2\n",
    "    we are not sure about the number of arguments that can pass to a function.python help to a such type of keyward i.e (*args) which allow  us to pass number of non keyword arguments to function.\n",
    "\n"
   ]
  },
  {
   "cell_type": "code",
   "execution_count": 4,
   "metadata": {},
   "outputs": [
    {
     "name": "stdout",
     "output_type": "stream",
     "text": [
      "sum = 37\n",
      "sum = 18\n"
     ]
    }
   ],
   "source": [
    "def add(*args):\n",
    "    sum=0\n",
    "    for i in args:\n",
    "        sum=sum+i\n",
    "    print (\"sum =\",sum)\n",
    "add(3,5,4,5,6,7,7,0)\n",
    "add(3,4,5,6)"
   ]
  },
  {
   "attachments": {},
   "cell_type": "markdown",
   "metadata": {},
   "source": [
    "## **kwargs\n",
    "    python passes variable length non key word arguments to function is using (*args) but we can't use this to pass keyword arguments.\n",
    "\n",
    "    for this problem python has create another funtion (**kwargs) using this function we are passes variable length with keyword atrguments."
   ]
  },
  {
   "cell_type": "code",
   "execution_count": 5,
   "metadata": {},
   "outputs": [
    {
     "data": {
      "text/plain": [
       "('i', {'name': 'uttam'})"
      ]
     },
     "execution_count": 5,
     "metadata": {},
     "output_type": "execute_result"
    }
   ],
   "source": [
    "def put(**kwargs):\n",
    "    l=[]\n",
    "    for i in kwargs.keys():\n",
    "        if type(kwargs[i])== dict:\n",
    "             return i,kwargs[i]\n",
    "             \n",
    "\n",
    "put(a=12,b=15.8,c=\"uttam\",d=[1,2,3,34,7,65],e={1,2,3,4,5,6},f=(4,5,6,7,8),i={\"name\":\"uttam\"})\n"
   ]
  },
  {
   "attachments": {},
   "cell_type": "markdown",
   "metadata": {},
   "source": [
    "## Q3.\n",
    "    Iterator in python is an object that is used to iterate over iterable object like list,tuple,set and dict.\n",
    "\n",
    "    The iterator object is intialized using the iter() method and the next() method used for iteration.\n",
    "\n",
    "    "
   ]
  },
  {
   "cell_type": "code",
   "execution_count": 1,
   "metadata": {},
   "outputs": [
    {
     "name": "stdout",
     "output_type": "stream",
     "text": [
      "2\n",
      "4\n",
      "6\n",
      "8\n",
      "10\n"
     ]
    }
   ],
   "source": [
    "lis=[2,4,6,8,10,12,14,16,18,20]\n",
    "l=iter(lis)\n",
    "for i in range(5):\n",
    "    print(next(l))"
   ]
  },
  {
   "attachments": {},
   "cell_type": "markdown",
   "metadata": {},
   "source": [
    "## Q4.\n",
    "    A Generator function is defined like a normal function,but whenever it  needs to generate a value,it does so with the yield keyword rather than return.\n",
    "\n",
    "    The yield statement produces a generator object and can return multiple values to the caller without terminating the program, whereas a return statement is used to return a value to the caller from within a function and it terminates the program.\n",
    "\n",
    "    "
   ]
  },
  {
   "cell_type": "code",
   "execution_count": 12,
   "metadata": {},
   "outputs": [
    {
     "name": "stdout",
     "output_type": "stream",
     "text": [
      "0 1 2 3 4 5 6 7 8 9 10 11 12 13 14 15 16 17 18 19 20 21 22 23 24 25 26 27 28 29 30 31 32 33 34 35 36 37 38 39 40 41 42 43 44 45 46 47 48 49 50 51 52 53 54 55 56 57 58 59 60 61 62 63 64 65 66 67 68 69 70 71 72 73 74 75 76 77 78 79 80 81 82 83 84 85 86 87 88 89 90 91 92 93 94 95 96 97 98 99 "
     ]
    }
   ],
   "source": [
    "def x():\n",
    "    num=0\n",
    "    while num<100:\n",
    "        yield num\n",
    "        num=num+1\n",
    "\n",
    "for i in x():\n",
    "    print(i,end=\" \")"
   ]
  },
  {
   "attachments": {},
   "cell_type": "markdown",
   "metadata": {},
   "source": [
    "## Q5."
   ]
  },
  {
   "cell_type": "code",
   "execution_count": 4,
   "metadata": {},
   "outputs": [
    {
     "name": "stdout",
     "output_type": "stream",
     "text": [
      "1\n",
      "2\n",
      "3\n",
      "5\n",
      "7\n",
      "11\n",
      "13\n",
      "17\n",
      "19\n",
      "23\n",
      "29\n",
      "31\n",
      "37\n",
      "41\n",
      "43\n",
      "47\n",
      "53\n",
      "59\n",
      "61\n",
      "67\n"
     ]
    }
   ],
   "source": [
    "def test(n):\n",
    "    for i in range(1,n):\n",
    "        count=0\n",
    "        for j in range(2,i):\n",
    "            if i%j==0:\n",
    "                count=count+1\n",
    "        if count==0:\n",
    "            yield(i)\n",
    "\n",
    "l=[]\n",
    "for i in test(1000):\n",
    "    l.append(i)\n",
    "lis=iter(l)\n",
    "for i in range(20):\n",
    "    print(next(lis))"
   ]
  },
  {
   "cell_type": "code",
   "execution_count": null,
   "metadata": {},
   "outputs": [],
   "source": []
  }
 ],
 "metadata": {
  "kernelspec": {
   "display_name": "Python 3",
   "language": "python",
   "name": "python3"
  },
  "language_info": {
   "codemirror_mode": {
    "name": "ipython",
    "version": 3
   },
   "file_extension": ".py",
   "mimetype": "text/x-python",
   "name": "python",
   "nbconvert_exporter": "python",
   "pygments_lexer": "ipython3",
   "version": "3.10.11"
  },
  "orig_nbformat": 4
 },
 "nbformat": 4,
 "nbformat_minor": 2
}
